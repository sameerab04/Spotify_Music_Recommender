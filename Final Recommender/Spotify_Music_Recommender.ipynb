{
 "cells": [
  {
   "cell_type": "code",
   "execution_count": null,
   "metadata": {},
   "outputs": [],
   "source": [
    "import pandas as pd\n",
    "import matplotlib.pyplot as plt\n",
    "import seaborn as sns\n",
    "import plotly.express as px\n",
    "import numpy as np"
   ]
  },
  {
   "cell_type": "code",
   "execution_count": null,
   "metadata": {},
   "outputs": [],
   "source": [
    "data = pd.read_csv(\"/Users/rohitsharma/Desktop/DM PROJECT/data.csv\")\n",
    "print(data.head())\n",
    "data.info()\n",
    "data.columns"
   ]
  },
  {
   "cell_type": "code",
   "execution_count": null,
   "metadata": {},
   "outputs": [],
   "source": [
    "# Group the data by 'year' and calculate the mean only for numeric columns\n",
    "year_data = data.select_dtypes(include=['float64', 'int64']).groupby('year').mean().reset_index()\n",
    "year_data.head()"
   ]
  },
  {
   "cell_type": "code",
   "execution_count": null,
   "metadata": {},
   "outputs": [],
   "source": [
    "def determine_column_counts(df):\n",
    "    columns = df.columns\n",
    "    columns = columns.drop('id')\n",
    "    data_counts = pd.DataFrame(columns = ['column_name','column_type','num_rows','distinct_data', 'distinct_percent', 'missing_data', 'missing_percentage'])\n",
    "    \n",
    "    #For each column, calculate number and percentage of missing rows and distinct counts\n",
    "    for col in columns :\n",
    "        col_vals = df[col]\n",
    "        total_data = len(col_vals)\n",
    "        col_missing = sum(col_vals.isnull())\n",
    "        missing_percent = round((col_missing / len(df[col])) * 100 , 3)\n",
    "        col_distinct = (col_vals.nunique())\n",
    "        distinct_percent = round((col_distinct / len(df[col])) * 100 , 3)\n",
    "\n",
    "        data_counts.loc[len(data_counts)] = [col, col_vals.dtype, total_data, col_distinct, distinct_percent, col_missing, missing_percent]\n",
    "        \n",
    "    return(data_counts)\n",
    "\n",
    "missing_data = determine_column_counts(data)\n",
    "missing_data"
   ]
  },
  {
   "cell_type": "markdown",
   "metadata": {},
   "source": [
    "There is no missing data present within the dataset, with 170653 rows. \n",
    "\n",
    "There are a few columns with only a couple distinct values - explicity and mode both only have two distinct values. \n",
    "\n",
    "Name, tempo, duration_ms have the highest percent of distinct data"
   ]
  },
  {
   "cell_type": "code",
   "execution_count": null,
   "metadata": {},
   "outputs": [],
   "source": [
    "# Setting up the aesthetics for the plots\n",
    "sns.set(style=\"whitegrid\")\n",
    "\n",
    "# Plotting distributions of some key features\n",
    "fig, axes = plt.subplots(3, 3, figsize=(15, 15))\n",
    "\n",
    "# Valence distribution\n",
    "sns.histplot(data['valence'], bins=30, kde=True, ax=axes[0, 0])\n",
    "axes[0, 0].set_title('Distribution of Valence')\n",
    "\n",
    "# Acousticness distribution\n",
    "sns.histplot(data['acousticness'], bins=30, kde=True, ax=axes[0, 1])\n",
    "axes[0, 1].set_title('Distribution of Acousticness')\n",
    "\n",
    "# Danceability distribution\n",
    "sns.histplot(data['danceability'], bins=30, kde=True, ax=axes[0,2])\n",
    "axes[0,2].set_title('Distribution of Danceability')\n",
    "\n",
    "# Energy distribution\n",
    "sns.histplot(data['energy'], bins=30, kde=True, ax=axes[1, 0])\n",
    "axes[1, 0].set_title('Distribution of Energy')\n",
    "\n",
    "# Popularity distribution\n",
    "sns.histplot(data['popularity'], bins=30, kde=True, ax=axes[1, 1])\n",
    "axes[1, 1].set_title('Distribution of Popularity')\n",
    "\n",
    "# Tempo distribution\n",
    "sns.histplot(data['tempo'], bins=30, kde=True, ax=axes[1, 2])\n",
    "axes[1, 2].set_title('Distribution of Tempo')\n",
    "\n",
    "\n",
    "# Year distribution\n",
    "sns.histplot(data['year'], bins=30, kde=True, ax=axes[2, 0])\n",
    "axes[2, 0].set_title('Distribution of Songs By Year')\n",
    "\n",
    "# Mode distribution\n",
    "sns.histplot(data['year'], bins=30, kde=True, ax=axes[2, 1])\n",
    "axes[2, 1].set_title('Distribution of Mode')\n",
    "\n",
    "data['decade'] = data['year'].apply(lambda year : f'{(year//10)*10}s' )\n",
    "sns.histplot(data['decade'], bins=30,  ax=axes[2, 2])\n",
    "axes[2, 2].set_title('Distribution of Songs by Decade')\n",
    "\n",
    "plt.tight_layout()\n",
    "plt.show()\n"
   ]
  },
  {
   "cell_type": "markdown",
   "metadata": {},
   "source": [
    "Distribution of Valence: Peaks in the mid-range, suggesting that most songs have moderate levels of musical positiveness.\n",
    "\n",
    "Distribution of Acousticness: Shows a U-shaped distribution, indicating that songs are typically either highly acoustic or not at all.\n",
    "\n",
    "Distribution of Danceability: Follows a bell-shaped curve centered around 0.5 to 0.7, implying most songs are moderately danceable.\n",
    "\n",
    "Distribution of Energy: Also centers around a moderate level, suggesting that most songs have a balanced energy level.\n",
    "\n",
    "Distribution of Popularity: Heavily skewed towards lower values, indicating that most songs have low popularity scores.\n",
    "\n",
    "Distribution of Tempo: Shows a bell-shaped distribution with a peak around 120 BPM, suggesting that this is the most common tempo for songs.\n",
    "\n",
    "Distribution of Songs by Year: Increases over time, particularly after 1960, indicating a growing number of songs being produced or recorded in databases.\n",
    "\n",
    "Distribution of Mode: Shows a preference for one mode over the other, indicating a commonality in the modal structure of songs, with a majority likely being in a major key given the two distinct peaks.\n",
    "\n",
    "Distribution of Songs by Decade: There's a noticeable increase in song counts beginning in the 1950s, with each subsequent decade having more songs than the last, peaking in the 2000s. The count for the 2010s appears slightly lower than the 2000s, but it's still significantly higher than in earlier decades. This could be due to various factors including the increase in music production, distribution channels, and changes in recording technologies."
   ]
  },
  {
   "cell_type": "code",
   "execution_count": null,
   "metadata": {},
   "outputs": [],
   "source": [
    "# Set up the matplotlib figure\n",
    "fig, axes = plt.subplots(2, 2, figsize=(15, 15))  # 3 Rows, 2 Columns\n",
    "\n",
    "# Danceability vs. Valence\n",
    "sns.scatterplot(ax=axes[0, 0], data=data, x='danceability', y='valence')\n",
    "axes[0, 0].set_title('Danceability vs. Valence')\n",
    "axes[0, 0].set_xlabel('Danceability')\n",
    "axes[0, 0].set_ylabel('Valence')\n",
    "\n",
    "# Year vs. Popularity\n",
    "sns.lineplot(ax=axes[0, 1], data=data, x='year', y='popularity', ci=None)\n",
    "axes[0, 1].set_title('Year vs. Popularity')\n",
    "axes[0, 1].set_xlabel('Year')\n",
    "axes[0, 1].set_ylabel('Popularity')\n",
    "\n",
    "# Energy vs. Loudness\n",
    "sns.scatterplot(ax=axes[1, 0], data=data, x='energy', y='loudness')\n",
    "axes[1, 0].set_title('Energy vs. Loudness')\n",
    "axes[1, 0].set_xlabel('Energy')\n",
    "axes[1, 0].set_ylabel('Loudness')\n",
    "\n",
    "\n",
    "# Speechiness vs. Explicit\n",
    "sns.boxplot(ax=axes[1, 1], data=data, x='explicit', y='speechiness')\n",
    "axes[1, 1].set_title('Speechiness by Explicit Content')\n",
    "axes[1, 1].set_xlabel('Explicit Content')\n",
    "axes[1, 1].set_ylabel('Speechiness')\n",
    "\n",
    "\n",
    "\n",
    "# Adjust layout\n",
    "plt.tight_layout()\n",
    "plt.show()\n"
   ]
  },
  {
   "cell_type": "markdown",
   "metadata": {},
   "source": [
    "Danceability vs. Valence: Shows no clear correlation between how danceable a song is and its positivity level. The data is spread evenly across all values.\n",
    "\n",
    "Year vs. Popularity: Indicates a significant increase in song popularity from the 1960s to the present, with a particularly sharp rise in recent years.\n",
    "\n",
    "Energy vs. Loudness: Demonstrates a positive relationship, with more energetic songs generally being louder.\n",
    "\n",
    "Speechiness by Explicit Content: Reveals that explicit songs tend to have a higher range and median of speechiness compared to non-explicit songs.\n",
    "\n",
    "\n",
    "\n"
   ]
  },
  {
   "cell_type": "code",
   "execution_count": null,
   "metadata": {},
   "outputs": [],
   "source": [
    "\n",
    "# Now 'year' should be one of the columns, so we can use it in the plot\n",
    "sound_features = ['acousticness', 'danceability', 'energy', 'instrumentalness', 'liveness', 'valence']\n",
    "fig = px.line(year_data, x='year', y=sound_features, title='Trend of various sound features over decades')\n",
    "\n",
    "# Show the plot\n",
    "fig.show()\n"
   ]
  },
  {
   "cell_type": "markdown",
   "metadata": {},
   "source": [
    "The chart indicates significant changes in the acousticness and instrumentalness of music over time, while other features like danceability, energy, liveness, and valence have shown more stability or minor fluctuations.\n",
    "\n",
    "\n",
    "\n",
    "\n"
   ]
  },
  {
   "cell_type": "code",
   "execution_count": null,
   "metadata": {},
   "outputs": [],
   "source": [
    "artists = pd.read_csv(\"/Users/rohitsharma/Desktop/DM PROJECT/data_by_artist.csv\")\n",
    "artists"
   ]
  },
  {
   "cell_type": "code",
   "execution_count": null,
   "metadata": {},
   "outputs": [],
   "source": [
    "top10_popular_artists = artists.nlargest(10, 'popularity')\n",
    "top10_most_song_produced_artists = artists.nlargest(10, 'count')\n",
    "print('Top 10 Artists that produced most songs:')\n",
    "top10_most_song_produced_artists[['count','artists']].sort_values('count',ascending=False)"
   ]
  },
  {
   "cell_type": "code",
   "execution_count": null,
   "metadata": {},
   "outputs": [],
   "source": [
    "\n",
    "print('Top 10 Artists that had most popularity score:')\n",
    "top10_popular_artists[['popularity','artists']].sort_values('popularity',ascending=False)"
   ]
  },
  {
   "cell_type": "code",
   "execution_count": null,
   "metadata": {},
   "outputs": [],
   "source": [
    "## GENRE ANALYSIS"
   ]
  },
  {
   "cell_type": "code",
   "execution_count": null,
   "metadata": {},
   "outputs": [],
   "source": [
    "data_w_genres = pd.read_csv('/Users/rohitsharma/Desktop/DM PROJECT/data_w_genres.csv')\n",
    "\n",
    "print(data_w_genres.head())\n",
    "\n",
    "print(data_w_genres.columns)"
   ]
  },
  {
   "cell_type": "code",
   "execution_count": null,
   "metadata": {},
   "outputs": [],
   "source": [
    "## Explore Genre Distribution"
   ]
  },
  {
   "cell_type": "code",
   "execution_count": null,
   "metadata": {},
   "outputs": [],
   "source": [
    "data_w_genres['genres'] = data_w_genres['genres'].apply(eval)  # Convert string representation of list to actual list\n",
    "data_exploded_genres = data_w_genres.explode('genres')\n",
    "\n",
    "genre_counts = data_exploded_genres['genres'].value_counts()\n",
    "\n",
    "# Display the top 10 genres\n",
    "print(genre_counts.head(10))"
   ]
  },
  {
   "cell_type": "code",
   "execution_count": null,
   "metadata": {},
   "outputs": [],
   "source": [
    "#Analyze Features by Genre"
   ]
  },
  {
   "cell_type": "code",
   "execution_count": null,
   "metadata": {},
   "outputs": [],
   "source": [
    "import matplotlib.pyplot as plt\n",
    "import seaborn as sns\n",
    "\n",
    "# For simplicity, let's focus on the top 5 genres\n",
    "top_genres = genre_counts.head(5).index.tolist()\n",
    "\n",
    "# Filter data to include only the top genres\n",
    "data_top_genres = data_exploded_genres[data_exploded_genres['genres'].isin(top_genres)]\n",
    "\n",
    "# Visualize the distribution of musical features for the top genres\n",
    "plt.figure(figsize=(20, 10))\n",
    "for i, feature in enumerate(['acousticness', 'danceability', 'energy', 'tempo', 'valence'], 1):\n",
    "    plt.subplot(2, 3, i)\n",
    "    sns.boxplot(x='genres', y=feature, data=data_top_genres)\n",
    "    plt.title(f'Distribution of {feature} by Genre')\n",
    "plt.tight_layout()\n",
    "plt.show()"
   ]
  },
  {
   "cell_type": "code",
   "execution_count": null,
   "metadata": {},
   "outputs": [],
   "source": []
  },
  {
   "cell_type": "code",
   "execution_count": null,
   "metadata": {},
   "outputs": [],
   "source": [
    "# Select only numeric columns for the mean calculation, excluding non-numeric ones like 'artists'\n",
    "numeric_data = data.select_dtypes(include=['float64', 'int64'])\n",
    "\n",
    "# Now group by 'year' and calculate the mean for these numeric columns only\n",
    "data_by_year = numeric_data.groupby('year').mean().reset_index()\n",
    "\n",
    "# Display the first few rows to verify\n",
    "print(data_by_year.head())"
   ]
  },
  {
   "cell_type": "code",
   "execution_count": null,
   "metadata": {},
   "outputs": [],
   "source": [
    "data_by_year = data_by_year.reset_index()\n",
    "\n",
    "# Use pd.melt to transform the DataFrame into a long-form DataFrame\n",
    "data_long = pd.melt(data_by_year, id_vars=['year'], value_vars=['acousticness', 'danceability', 'energy', 'instrumentalness', 'liveness', 'valence'])\n",
    "\n",
    "# Plot the data using seaborn\n",
    "plt.figure(figsize=(16, 8))  # Set the figure size\n",
    "sns.lineplot(data=data_long, x='year', y='value', hue='variable')\n",
    "\n",
    "# Customize the plot with titles, labels, etc.\n",
    "plt.title('Musical Features Over Time')\n",
    "plt.xlabel('Year')\n",
    "plt.ylabel('Value')\n",
    "plt.legend(title='Variable')\n",
    "plt.show()"
   ]
  },
  {
   "cell_type": "code",
   "execution_count": null,
   "metadata": {},
   "outputs": [],
   "source": [
    "data['count'] = 1  # Temporary column to aid in counting\n",
    "releases_by_year = data.groupby('year')['count'].sum().reset_index()\n",
    "\n",
    "# Merge this with your data_by_year DataFrame\n",
    "data_by_year = pd.merge(data_by_year, releases_by_year, on='year', how='left')\n",
    "\n",
    "# Plotting features with popularity and number of releases\n",
    "plt.figure(figsize=(15, 7))\n",
    "sns.lineplot(x='year', y='popularity', data=data_by_year, label='Popularity', color='green')\n",
    "ax2 = plt.twinx()\n",
    "sns.lineplot(x='year', y='count', data=data_by_year, label='Number of Releases', color='red', ax=ax2)\n",
    "\n",
    "plt.title('Popularity and Number of Releases Over Time')\n",
    "ax2.set_ylabel('Number of Releases')\n",
    "plt.legend(title='Metrics')\n",
    "plt.show()\n"
   ]
  },
  {
   "cell_type": "code",
   "execution_count": null,
   "metadata": {},
   "outputs": [],
   "source": [
    "## Recommender System"
   ]
  },
  {
   "cell_type": "code",
   "execution_count": 1,
   "metadata": {},
   "outputs": [],
   "source": [
    "import pandas as pd\n",
    "from sklearn.preprocessing import MinMaxScaler, OneHotEncoder\n",
    "from sklearn.metrics.pairwise import cosine_similarity\n",
    "from sklearn.feature_extraction.text import CountVectorizer\n",
    "from scipy.sparse import csr_matrix"
   ]
  },
  {
   "cell_type": "code",
   "execution_count": 2,
   "metadata": {},
   "outputs": [
    {
     "data": {
      "text/html": [
       "<div>\n",
       "<style scoped>\n",
       "    .dataframe tbody tr th:only-of-type {\n",
       "        vertical-align: middle;\n",
       "    }\n",
       "\n",
       "    .dataframe tbody tr th {\n",
       "        vertical-align: top;\n",
       "    }\n",
       "\n",
       "    .dataframe thead th {\n",
       "        text-align: right;\n",
       "    }\n",
       "</style>\n",
       "<table border=\"1\" class=\"dataframe\">\n",
       "  <thead>\n",
       "    <tr style=\"text-align: right;\">\n",
       "      <th></th>\n",
       "      <th>valence</th>\n",
       "      <th>year</th>\n",
       "      <th>acousticness</th>\n",
       "      <th>artists</th>\n",
       "      <th>danceability</th>\n",
       "      <th>duration_ms</th>\n",
       "      <th>energy</th>\n",
       "      <th>explicit</th>\n",
       "      <th>id</th>\n",
       "      <th>instrumentalness</th>\n",
       "      <th>key</th>\n",
       "      <th>liveness</th>\n",
       "      <th>loudness</th>\n",
       "      <th>mode</th>\n",
       "      <th>name</th>\n",
       "      <th>popularity</th>\n",
       "      <th>release_date</th>\n",
       "      <th>speechiness</th>\n",
       "      <th>tempo</th>\n",
       "    </tr>\n",
       "  </thead>\n",
       "  <tbody>\n",
       "    <tr>\n",
       "      <th>0</th>\n",
       "      <td>0.0594</td>\n",
       "      <td>1921</td>\n",
       "      <td>0.982</td>\n",
       "      <td>['Sergei Rachmaninoff', 'James Levine', 'Berli...</td>\n",
       "      <td>0.279</td>\n",
       "      <td>831667</td>\n",
       "      <td>0.211</td>\n",
       "      <td>0</td>\n",
       "      <td>4BJqT0PrAfrxzMOxytFOIz</td>\n",
       "      <td>0.878000</td>\n",
       "      <td>10</td>\n",
       "      <td>0.665</td>\n",
       "      <td>-20.096</td>\n",
       "      <td>1</td>\n",
       "      <td>Piano Concerto No. 3 in D Minor, Op. 30: III. ...</td>\n",
       "      <td>4</td>\n",
       "      <td>1921</td>\n",
       "      <td>0.0366</td>\n",
       "      <td>80.954</td>\n",
       "    </tr>\n",
       "    <tr>\n",
       "      <th>1</th>\n",
       "      <td>0.9630</td>\n",
       "      <td>1921</td>\n",
       "      <td>0.732</td>\n",
       "      <td>['Dennis Day']</td>\n",
       "      <td>0.819</td>\n",
       "      <td>180533</td>\n",
       "      <td>0.341</td>\n",
       "      <td>0</td>\n",
       "      <td>7xPhfUan2yNtyFG0cUWkt8</td>\n",
       "      <td>0.000000</td>\n",
       "      <td>7</td>\n",
       "      <td>0.160</td>\n",
       "      <td>-12.441</td>\n",
       "      <td>1</td>\n",
       "      <td>Clancy Lowered the Boom</td>\n",
       "      <td>5</td>\n",
       "      <td>1921</td>\n",
       "      <td>0.4150</td>\n",
       "      <td>60.936</td>\n",
       "    </tr>\n",
       "    <tr>\n",
       "      <th>2</th>\n",
       "      <td>0.0394</td>\n",
       "      <td>1921</td>\n",
       "      <td>0.961</td>\n",
       "      <td>['KHP Kridhamardawa Karaton Ngayogyakarta Hadi...</td>\n",
       "      <td>0.328</td>\n",
       "      <td>500062</td>\n",
       "      <td>0.166</td>\n",
       "      <td>0</td>\n",
       "      <td>1o6I8BglA6ylDMrIELygv1</td>\n",
       "      <td>0.913000</td>\n",
       "      <td>3</td>\n",
       "      <td>0.101</td>\n",
       "      <td>-14.850</td>\n",
       "      <td>1</td>\n",
       "      <td>Gati Bali</td>\n",
       "      <td>5</td>\n",
       "      <td>1921</td>\n",
       "      <td>0.0339</td>\n",
       "      <td>110.339</td>\n",
       "    </tr>\n",
       "    <tr>\n",
       "      <th>3</th>\n",
       "      <td>0.1650</td>\n",
       "      <td>1921</td>\n",
       "      <td>0.967</td>\n",
       "      <td>['Frank Parker']</td>\n",
       "      <td>0.275</td>\n",
       "      <td>210000</td>\n",
       "      <td>0.309</td>\n",
       "      <td>0</td>\n",
       "      <td>3ftBPsC5vPBKxYSee08FDH</td>\n",
       "      <td>0.000028</td>\n",
       "      <td>5</td>\n",
       "      <td>0.381</td>\n",
       "      <td>-9.316</td>\n",
       "      <td>1</td>\n",
       "      <td>Danny Boy</td>\n",
       "      <td>3</td>\n",
       "      <td>1921</td>\n",
       "      <td>0.0354</td>\n",
       "      <td>100.109</td>\n",
       "    </tr>\n",
       "    <tr>\n",
       "      <th>4</th>\n",
       "      <td>0.2530</td>\n",
       "      <td>1921</td>\n",
       "      <td>0.957</td>\n",
       "      <td>['Phil Regan']</td>\n",
       "      <td>0.418</td>\n",
       "      <td>166693</td>\n",
       "      <td>0.193</td>\n",
       "      <td>0</td>\n",
       "      <td>4d6HGyGT8e121BsdKmw9v6</td>\n",
       "      <td>0.000002</td>\n",
       "      <td>3</td>\n",
       "      <td>0.229</td>\n",
       "      <td>-10.096</td>\n",
       "      <td>1</td>\n",
       "      <td>When Irish Eyes Are Smiling</td>\n",
       "      <td>2</td>\n",
       "      <td>1921</td>\n",
       "      <td>0.0380</td>\n",
       "      <td>101.665</td>\n",
       "    </tr>\n",
       "  </tbody>\n",
       "</table>\n",
       "</div>"
      ],
      "text/plain": [
       "   valence  year  acousticness  \\\n",
       "0   0.0594  1921         0.982   \n",
       "1   0.9630  1921         0.732   \n",
       "2   0.0394  1921         0.961   \n",
       "3   0.1650  1921         0.967   \n",
       "4   0.2530  1921         0.957   \n",
       "\n",
       "                                             artists  danceability  \\\n",
       "0  ['Sergei Rachmaninoff', 'James Levine', 'Berli...         0.279   \n",
       "1                                     ['Dennis Day']         0.819   \n",
       "2  ['KHP Kridhamardawa Karaton Ngayogyakarta Hadi...         0.328   \n",
       "3                                   ['Frank Parker']         0.275   \n",
       "4                                     ['Phil Regan']         0.418   \n",
       "\n",
       "   duration_ms  energy  explicit                      id  instrumentalness  \\\n",
       "0       831667   0.211         0  4BJqT0PrAfrxzMOxytFOIz          0.878000   \n",
       "1       180533   0.341         0  7xPhfUan2yNtyFG0cUWkt8          0.000000   \n",
       "2       500062   0.166         0  1o6I8BglA6ylDMrIELygv1          0.913000   \n",
       "3       210000   0.309         0  3ftBPsC5vPBKxYSee08FDH          0.000028   \n",
       "4       166693   0.193         0  4d6HGyGT8e121BsdKmw9v6          0.000002   \n",
       "\n",
       "   key  liveness  loudness  mode  \\\n",
       "0   10     0.665   -20.096     1   \n",
       "1    7     0.160   -12.441     1   \n",
       "2    3     0.101   -14.850     1   \n",
       "3    5     0.381    -9.316     1   \n",
       "4    3     0.229   -10.096     1   \n",
       "\n",
       "                                                name  popularity release_date  \\\n",
       "0  Piano Concerto No. 3 in D Minor, Op. 30: III. ...           4         1921   \n",
       "1                            Clancy Lowered the Boom           5         1921   \n",
       "2                                          Gati Bali           5         1921   \n",
       "3                                          Danny Boy           3         1921   \n",
       "4                        When Irish Eyes Are Smiling           2         1921   \n",
       "\n",
       "   speechiness    tempo  \n",
       "0       0.0366   80.954  \n",
       "1       0.4150   60.936  \n",
       "2       0.0339  110.339  \n",
       "3       0.0354  100.109  \n",
       "4       0.0380  101.665  "
      ]
     },
     "execution_count": 2,
     "metadata": {},
     "output_type": "execute_result"
    }
   ],
   "source": [
    "data = pd.read_csv(\"/Users/rohitsharma/Desktop/DM PROJECT/data.csv\")\n",
    "data.columns\n",
    "data.head()"
   ]
  },
  {
   "cell_type": "code",
   "execution_count": 3,
   "metadata": {},
   "outputs": [
    {
     "name": "stdout",
     "output_type": "stream",
     "text": [
      "Index(['genres', 'artists', 'acousticness', 'danceability', 'duration_ms',\n",
      "       'energy', 'instrumentalness', 'liveness', 'loudness', 'speechiness',\n",
      "       'tempo', 'valence', 'popularity', 'key', 'mode', 'count'],\n",
      "      dtype='object')\n"
     ]
    }
   ],
   "source": [
    "data_w_genres = pd.read_csv('/Users/rohitsharma/Desktop/DM PROJECT/data_w_genres.csv')\n",
    "print(data_w_genres.columns)\n"
   ]
  },
  {
   "cell_type": "code",
   "execution_count": 4,
   "metadata": {},
   "outputs": [
    {
     "name": "stdout",
     "output_type": "stream",
     "text": [
      "Index(['mode', 'genres', 'acousticness', 'danceability', 'duration_ms',\n",
      "       'energy', 'instrumentalness', 'liveness', 'loudness', 'speechiness',\n",
      "       'tempo', 'valence', 'popularity', 'key'],\n",
      "      dtype='object')\n"
     ]
    }
   ],
   "source": [
    "data_by_genres = pd.read_csv('/Users/rohitsharma/Desktop/DM PROJECT/data_by_genres.csv')\n",
    "\n",
    "print(data_by_genres.columns)\n"
   ]
  },
  {
   "cell_type": "code",
   "execution_count": 5,
   "metadata": {},
   "outputs": [
    {
     "name": "stdout",
     "output_type": "stream",
     "text": [
      "Index(['mode', 'year', 'acousticness', 'danceability', 'duration_ms', 'energy',\n",
      "       'instrumentalness', 'liveness', 'loudness', 'speechiness', 'tempo',\n",
      "       'valence', 'popularity', 'key'],\n",
      "      dtype='object')\n"
     ]
    }
   ],
   "source": [
    "data_by_year = pd.read_csv('/Users/rohitsharma/Desktop/DM PROJECT/data_by_year.csv')\n",
    "\n",
    "print(data_by_year.columns)"
   ]
  },
  {
   "cell_type": "code",
   "execution_count": 6,
   "metadata": {},
   "outputs": [
    {
     "name": "stdout",
     "output_type": "stream",
     "text": [
      "Index(['mode', 'count', 'acousticness', 'artists', 'danceability',\n",
      "       'duration_ms', 'energy', 'instrumentalness', 'liveness', 'loudness',\n",
      "       'speechiness', 'tempo', 'valence', 'popularity', 'key'],\n",
      "      dtype='object')\n"
     ]
    }
   ],
   "source": [
    "data_by_artist = pd.read_csv('/Users/rohitsharma/Desktop/DM PROJECT/data_by_artist.csv')\n",
    "\n",
    "print(data_by_artist.columns)"
   ]
  },
  {
   "cell_type": "code",
   "execution_count": null,
   "metadata": {},
   "outputs": [],
   "source": []
  },
  {
   "cell_type": "code",
   "execution_count": 7,
   "metadata": {},
   "outputs": [],
   "source": [
    "import ast\n",
    "# Function to safely convert to list\n",
    "def safe_convert_to_list(value):\n",
    "    if isinstance(value, list):  # If it's already a list, just return it\n",
    "        return value\n",
    "    try:\n",
    "        # Attempt to convert a string representation of a list into a list\n",
    "        return ast.literal_eval(value)\n",
    "    except (ValueError, SyntaxError):  # If there's an error during conversion\n",
    "        return []  # Return an empty list or some other default\n",
    "\n",
    "# Apply this function to each entry in the 'artists' column\n",
    "data['artists'] = data['artists'].apply(safe_convert_to_list)\n",
    "\n",
    "# Explode the 'artists' list into separate rows\n",
    "data_exploded = data.explode('artists')\n",
    "\n",
    "# Merge with data_w_genres\n",
    "merged_df = pd.merge(data_exploded, data_w_genres[['artists','genres']], left_on='artists', right_on='artists', how='left')"
   ]
  },
  {
   "cell_type": "code",
   "execution_count": 8,
   "metadata": {},
   "outputs": [
    {
     "data": {
      "text/plain": [
       "Index(['valence', 'year', 'acousticness', 'artists', 'danceability',\n",
       "       'duration_ms', 'energy', 'explicit', 'id', 'instrumentalness', 'key',\n",
       "       'liveness', 'loudness', 'mode', 'name', 'popularity', 'release_date',\n",
       "       'speechiness', 'tempo', 'genres'],\n",
       "      dtype='object')"
      ]
     },
     "execution_count": 8,
     "metadata": {},
     "output_type": "execute_result"
    }
   ],
   "source": [
    "merged_df.columns"
   ]
  },
  {
   "cell_type": "code",
   "execution_count": null,
   "metadata": {},
   "outputs": [],
   "source": []
  },
  {
   "cell_type": "code",
   "execution_count": null,
   "metadata": {},
   "outputs": [],
   "source": [
    "## RECOMMENDER SYSTEM"
   ]
  },
  {
   "cell_type": "code",
   "execution_count": 10,
   "metadata": {},
   "outputs": [
    {
     "data": {
      "text/html": [
       "<div>\n",
       "<style scoped>\n",
       "    .dataframe tbody tr th:only-of-type {\n",
       "        vertical-align: middle;\n",
       "    }\n",
       "\n",
       "    .dataframe tbody tr th {\n",
       "        vertical-align: top;\n",
       "    }\n",
       "\n",
       "    .dataframe thead th {\n",
       "        text-align: right;\n",
       "    }\n",
       "</style>\n",
       "<table border=\"1\" class=\"dataframe\">\n",
       "  <thead>\n",
       "    <tr style=\"text-align: right;\">\n",
       "      <th></th>\n",
       "      <th>valence</th>\n",
       "      <th>year</th>\n",
       "      <th>acousticness</th>\n",
       "      <th>artists</th>\n",
       "      <th>danceability</th>\n",
       "      <th>duration_ms</th>\n",
       "      <th>energy</th>\n",
       "      <th>explicit</th>\n",
       "      <th>id</th>\n",
       "      <th>instrumentalness</th>\n",
       "      <th>key</th>\n",
       "      <th>liveness</th>\n",
       "      <th>loudness</th>\n",
       "      <th>mode</th>\n",
       "      <th>name</th>\n",
       "      <th>popularity</th>\n",
       "      <th>release_date</th>\n",
       "      <th>speechiness</th>\n",
       "      <th>tempo</th>\n",
       "      <th>genres</th>\n",
       "    </tr>\n",
       "  </thead>\n",
       "  <tbody>\n",
       "    <tr>\n",
       "      <th>0</th>\n",
       "      <td>0.145</td>\n",
       "      <td>2020</td>\n",
       "      <td>0.4010</td>\n",
       "      <td>Bad Bunny</td>\n",
       "      <td>0.731</td>\n",
       "      <td>205090</td>\n",
       "      <td>0.573</td>\n",
       "      <td>1</td>\n",
       "      <td>47EiUVwUp4C9fGccaPuUCS</td>\n",
       "      <td>0.000052</td>\n",
       "      <td>4</td>\n",
       "      <td>0.1130</td>\n",
       "      <td>-10.059</td>\n",
       "      <td>0</td>\n",
       "      <td>Dakiti</td>\n",
       "      <td>100</td>\n",
       "      <td>2020-10-30</td>\n",
       "      <td>0.0544</td>\n",
       "      <td>109.928</td>\n",
       "      <td>['latin', 'reggaeton', 'trap latino']</td>\n",
       "    </tr>\n",
       "    <tr>\n",
       "      <th>1</th>\n",
       "      <td>0.145</td>\n",
       "      <td>2020</td>\n",
       "      <td>0.4010</td>\n",
       "      <td>Jhay Cortez</td>\n",
       "      <td>0.731</td>\n",
       "      <td>205090</td>\n",
       "      <td>0.573</td>\n",
       "      <td>1</td>\n",
       "      <td>47EiUVwUp4C9fGccaPuUCS</td>\n",
       "      <td>0.000052</td>\n",
       "      <td>4</td>\n",
       "      <td>0.1130</td>\n",
       "      <td>-10.059</td>\n",
       "      <td>0</td>\n",
       "      <td>Dakiti</td>\n",
       "      <td>100</td>\n",
       "      <td>2020-10-30</td>\n",
       "      <td>0.0544</td>\n",
       "      <td>109.928</td>\n",
       "      <td>['latin', 'reggaeton', 'trap latino']</td>\n",
       "    </tr>\n",
       "    <tr>\n",
       "      <th>2</th>\n",
       "      <td>0.756</td>\n",
       "      <td>2020</td>\n",
       "      <td>0.2210</td>\n",
       "      <td>iann dior</td>\n",
       "      <td>0.700</td>\n",
       "      <td>140526</td>\n",
       "      <td>0.722</td>\n",
       "      <td>1</td>\n",
       "      <td>3tjFYV6RSFtuktYl3ZtYcq</td>\n",
       "      <td>0.000000</td>\n",
       "      <td>7</td>\n",
       "      <td>0.2720</td>\n",
       "      <td>-3.558</td>\n",
       "      <td>0</td>\n",
       "      <td>Mood (feat. iann dior)</td>\n",
       "      <td>99</td>\n",
       "      <td>2020-07-24</td>\n",
       "      <td>0.0369</td>\n",
       "      <td>90.989</td>\n",
       "      <td>['melodic rap', 'pop rap']</td>\n",
       "    </tr>\n",
       "    <tr>\n",
       "      <th>3</th>\n",
       "      <td>0.756</td>\n",
       "      <td>2020</td>\n",
       "      <td>0.2210</td>\n",
       "      <td>24kGoldn</td>\n",
       "      <td>0.700</td>\n",
       "      <td>140526</td>\n",
       "      <td>0.722</td>\n",
       "      <td>1</td>\n",
       "      <td>3tjFYV6RSFtuktYl3ZtYcq</td>\n",
       "      <td>0.000000</td>\n",
       "      <td>7</td>\n",
       "      <td>0.2720</td>\n",
       "      <td>-3.558</td>\n",
       "      <td>0</td>\n",
       "      <td>Mood (feat. iann dior)</td>\n",
       "      <td>99</td>\n",
       "      <td>2020-07-24</td>\n",
       "      <td>0.0369</td>\n",
       "      <td>90.989</td>\n",
       "      <td>['cali rap']</td>\n",
       "    </tr>\n",
       "    <tr>\n",
       "      <th>4</th>\n",
       "      <td>0.737</td>\n",
       "      <td>2020</td>\n",
       "      <td>0.0112</td>\n",
       "      <td>BTS</td>\n",
       "      <td>0.746</td>\n",
       "      <td>199054</td>\n",
       "      <td>0.765</td>\n",
       "      <td>0</td>\n",
       "      <td>0t1kP63rueHleOhQkYSXFY</td>\n",
       "      <td>0.000000</td>\n",
       "      <td>6</td>\n",
       "      <td>0.0936</td>\n",
       "      <td>-4.410</td>\n",
       "      <td>0</td>\n",
       "      <td>Dynamite</td>\n",
       "      <td>97</td>\n",
       "      <td>2020-08-28</td>\n",
       "      <td>0.0993</td>\n",
       "      <td>114.044</td>\n",
       "      <td>['k-pop', 'k-pop boy group']</td>\n",
       "    </tr>\n",
       "  </tbody>\n",
       "</table>\n",
       "</div>"
      ],
      "text/plain": [
       "   valence  year  acousticness      artists  danceability  duration_ms  \\\n",
       "0    0.145  2020        0.4010    Bad Bunny         0.731       205090   \n",
       "1    0.145  2020        0.4010  Jhay Cortez         0.731       205090   \n",
       "2    0.756  2020        0.2210    iann dior         0.700       140526   \n",
       "3    0.756  2020        0.2210     24kGoldn         0.700       140526   \n",
       "4    0.737  2020        0.0112          BTS         0.746       199054   \n",
       "\n",
       "   energy  explicit                      id  instrumentalness  key  liveness  \\\n",
       "0   0.573         1  47EiUVwUp4C9fGccaPuUCS          0.000052    4    0.1130   \n",
       "1   0.573         1  47EiUVwUp4C9fGccaPuUCS          0.000052    4    0.1130   \n",
       "2   0.722         1  3tjFYV6RSFtuktYl3ZtYcq          0.000000    7    0.2720   \n",
       "3   0.722         1  3tjFYV6RSFtuktYl3ZtYcq          0.000000    7    0.2720   \n",
       "4   0.765         0  0t1kP63rueHleOhQkYSXFY          0.000000    6    0.0936   \n",
       "\n",
       "   loudness  mode                    name  popularity release_date  \\\n",
       "0   -10.059     0                  Dakiti         100   2020-10-30   \n",
       "1   -10.059     0                  Dakiti         100   2020-10-30   \n",
       "2    -3.558     0  Mood (feat. iann dior)          99   2020-07-24   \n",
       "3    -3.558     0  Mood (feat. iann dior)          99   2020-07-24   \n",
       "4    -4.410     0                Dynamite          97   2020-08-28   \n",
       "\n",
       "   speechiness    tempo                                 genres  \n",
       "0       0.0544  109.928  ['latin', 'reggaeton', 'trap latino']  \n",
       "1       0.0544  109.928  ['latin', 'reggaeton', 'trap latino']  \n",
       "2       0.0369   90.989             ['melodic rap', 'pop rap']  \n",
       "3       0.0369   90.989                           ['cali rap']  \n",
       "4       0.0993  114.044           ['k-pop', 'k-pop boy group']  "
      ]
     },
     "execution_count": 10,
     "metadata": {},
     "output_type": "execute_result"
    }
   ],
   "source": [
    "song_library = merged_df.sort_values(by=['popularity'], ascending=False).head(10000)\n",
    "song_library.reset_index(inplace=True, drop=True)\n",
    "song_library.head()"
   ]
  },
  {
   "cell_type": "code",
   "execution_count": 11,
   "metadata": {},
   "outputs": [
    {
     "data": {
      "text/html": [
       "<style>#sk-container-id-1 {color: black;}#sk-container-id-1 pre{padding: 0;}#sk-container-id-1 div.sk-toggleable {background-color: white;}#sk-container-id-1 label.sk-toggleable__label {cursor: pointer;display: block;width: 100%;margin-bottom: 0;padding: 0.3em;box-sizing: border-box;text-align: center;}#sk-container-id-1 label.sk-toggleable__label-arrow:before {content: \"▸\";float: left;margin-right: 0.25em;color: #696969;}#sk-container-id-1 label.sk-toggleable__label-arrow:hover:before {color: black;}#sk-container-id-1 div.sk-estimator:hover label.sk-toggleable__label-arrow:before {color: black;}#sk-container-id-1 div.sk-toggleable__content {max-height: 0;max-width: 0;overflow: hidden;text-align: left;background-color: #f0f8ff;}#sk-container-id-1 div.sk-toggleable__content pre {margin: 0.2em;color: black;border-radius: 0.25em;background-color: #f0f8ff;}#sk-container-id-1 input.sk-toggleable__control:checked~div.sk-toggleable__content {max-height: 200px;max-width: 100%;overflow: auto;}#sk-container-id-1 input.sk-toggleable__control:checked~label.sk-toggleable__label-arrow:before {content: \"▾\";}#sk-container-id-1 div.sk-estimator input.sk-toggleable__control:checked~label.sk-toggleable__label {background-color: #d4ebff;}#sk-container-id-1 div.sk-label input.sk-toggleable__control:checked~label.sk-toggleable__label {background-color: #d4ebff;}#sk-container-id-1 input.sk-hidden--visually {border: 0;clip: rect(1px 1px 1px 1px);clip: rect(1px, 1px, 1px, 1px);height: 1px;margin: -1px;overflow: hidden;padding: 0;position: absolute;width: 1px;}#sk-container-id-1 div.sk-estimator {font-family: monospace;background-color: #f0f8ff;border: 1px dotted black;border-radius: 0.25em;box-sizing: border-box;margin-bottom: 0.5em;}#sk-container-id-1 div.sk-estimator:hover {background-color: #d4ebff;}#sk-container-id-1 div.sk-parallel-item::after {content: \"\";width: 100%;border-bottom: 1px solid gray;flex-grow: 1;}#sk-container-id-1 div.sk-label:hover label.sk-toggleable__label {background-color: #d4ebff;}#sk-container-id-1 div.sk-serial::before {content: \"\";position: absolute;border-left: 1px solid gray;box-sizing: border-box;top: 0;bottom: 0;left: 50%;z-index: 0;}#sk-container-id-1 div.sk-serial {display: flex;flex-direction: column;align-items: center;background-color: white;padding-right: 0.2em;padding-left: 0.2em;position: relative;}#sk-container-id-1 div.sk-item {position: relative;z-index: 1;}#sk-container-id-1 div.sk-parallel {display: flex;align-items: stretch;justify-content: center;background-color: white;position: relative;}#sk-container-id-1 div.sk-item::before, #sk-container-id-1 div.sk-parallel-item::before {content: \"\";position: absolute;border-left: 1px solid gray;box-sizing: border-box;top: 0;bottom: 0;left: 50%;z-index: -1;}#sk-container-id-1 div.sk-parallel-item {display: flex;flex-direction: column;z-index: 1;position: relative;background-color: white;}#sk-container-id-1 div.sk-parallel-item:first-child::after {align-self: flex-end;width: 50%;}#sk-container-id-1 div.sk-parallel-item:last-child::after {align-self: flex-start;width: 50%;}#sk-container-id-1 div.sk-parallel-item:only-child::after {width: 0;}#sk-container-id-1 div.sk-dashed-wrapped {border: 1px dashed gray;margin: 0 0.4em 0.5em 0.4em;box-sizing: border-box;padding-bottom: 0.4em;background-color: white;}#sk-container-id-1 div.sk-label label {font-family: monospace;font-weight: bold;display: inline-block;line-height: 1.2em;}#sk-container-id-1 div.sk-label-container {text-align: center;}#sk-container-id-1 div.sk-container {/* jupyter's `normalize.less` sets `[hidden] { display: none; }` but bootstrap.min.css set `[hidden] { display: none !important; }` so we also need the `!important` here to be able to override the default hidden behavior on the sphinx rendered scikit-learn.org. See: https://github.com/scikit-learn/scikit-learn/issues/21755 */display: inline-block !important;position: relative;}#sk-container-id-1 div.sk-text-repr-fallback {display: none;}</style><div id=\"sk-container-id-1\" class=\"sk-top-container\"><div class=\"sk-text-repr-fallback\"><pre>CountVectorizer()</pre><b>In a Jupyter environment, please rerun this cell to show the HTML representation or trust the notebook. <br />On GitHub, the HTML representation is unable to render, please try loading this page with nbviewer.org.</b></div><div class=\"sk-container\" hidden><div class=\"sk-item\"><div class=\"sk-estimator sk-toggleable\"><input class=\"sk-toggleable__control sk-hidden--visually\" id=\"sk-estimator-id-1\" type=\"checkbox\" checked><label for=\"sk-estimator-id-1\" class=\"sk-toggleable__label sk-toggleable__label-arrow\">CountVectorizer</label><div class=\"sk-toggleable__content\"><pre>CountVectorizer()</pre></div></div></div></div></div>"
      ],
      "text/plain": [
       "CountVectorizer()"
      ]
     },
     "execution_count": 11,
     "metadata": {},
     "output_type": "execute_result"
    }
   ],
   "source": [
    "# Create CountVectorizer object to transform text into vector\n",
    "song_vectorizer = CountVectorizer()\n",
    "\n",
    "# Fit the vectorizer on \"genres\" field of song_library DataFrame\n",
    "song_vectorizer.fit(song_library['genres'])"
   ]
  },
  {
   "cell_type": "code",
   "execution_count": 12,
   "metadata": {},
   "outputs": [],
   "source": [
    "genre_vectors = song_vectorizer.transform(song_library['genres']).toarray()\n"
   ]
  },
  {
   "cell_type": "markdown",
   "metadata": {},
   "source": [
    "### PIPELINE"
   ]
  },
  {
   "cell_type": "code",
   "execution_count": 28,
   "metadata": {
    "scrolled": true
   },
   "outputs": [
    {
     "name": "stdout",
     "output_type": "stream",
     "text": [
      "Collecting spotipy\n",
      "  Obtaining dependency information for spotipy from https://files.pythonhosted.org/packages/b8/e8/4c099f9431ec9a86f576b344702cd4446d1ff7df09b172dc1951f25d58b1/spotipy-2.23.0-py3-none-any.whl.metadata\n",
      "  Downloading spotipy-2.23.0-py3-none-any.whl.metadata (3.3 kB)\n",
      "Collecting redis>=3.5.3 (from spotipy)\n",
      "  Obtaining dependency information for redis>=3.5.3 from https://files.pythonhosted.org/packages/63/c9/7e8397d1eedaadcd2fbcbbd34b1373c08743ebb475a0afda7089df6bb646/redis-5.0.2-py3-none-any.whl.metadata\n",
      "  Downloading redis-5.0.2-py3-none-any.whl.metadata (9.3 kB)\n",
      "Requirement already satisfied: requests>=2.25.0 in /Users/rohitsharma/anaconda3/lib/python3.11/site-packages (from spotipy) (2.31.0)\n",
      "Requirement already satisfied: six>=1.15.0 in /Users/rohitsharma/anaconda3/lib/python3.11/site-packages (from spotipy) (1.16.0)\n",
      "Requirement already satisfied: urllib3>=1.26.0 in /Users/rohitsharma/anaconda3/lib/python3.11/site-packages (from spotipy) (1.26.16)\n",
      "Collecting async-timeout>=4.0.3 (from redis>=3.5.3->spotipy)\n",
      "  Obtaining dependency information for async-timeout>=4.0.3 from https://files.pythonhosted.org/packages/a7/fa/e01228c2938de91d47b307831c62ab9e4001e747789d0b05baf779a6488c/async_timeout-4.0.3-py3-none-any.whl.metadata\n",
      "  Downloading async_timeout-4.0.3-py3-none-any.whl.metadata (4.2 kB)\n",
      "Requirement already satisfied: charset-normalizer<4,>=2 in /Users/rohitsharma/anaconda3/lib/python3.11/site-packages (from requests>=2.25.0->spotipy) (2.0.4)\n",
      "Requirement already satisfied: idna<4,>=2.5 in /Users/rohitsharma/anaconda3/lib/python3.11/site-packages (from requests>=2.25.0->spotipy) (3.4)\n",
      "Requirement already satisfied: certifi>=2017.4.17 in /Users/rohitsharma/anaconda3/lib/python3.11/site-packages (from requests>=2.25.0->spotipy) (2023.7.22)\n",
      "Downloading spotipy-2.23.0-py3-none-any.whl (29 kB)\n",
      "Downloading redis-5.0.2-py3-none-any.whl (251 kB)\n",
      "\u001b[2K   \u001b[90m━━━━━━━━━━━━━━━━━━━━━━━━━━━━━━━━━━━━━━━━\u001b[0m \u001b[32m251.7/251.7 kB\u001b[0m \u001b[31m1.9 MB/s\u001b[0m eta \u001b[36m0:00:00\u001b[0ma \u001b[36m0:00:01\u001b[0m\n",
      "\u001b[?25hDownloading async_timeout-4.0.3-py3-none-any.whl (5.7 kB)\n",
      "Installing collected packages: async-timeout, redis, spotipy\n",
      "  Attempting uninstall: async-timeout\n",
      "    Found existing installation: async-timeout 4.0.2\n",
      "    Uninstalling async-timeout-4.0.2:\n",
      "      Successfully uninstalled async-timeout-4.0.2\n",
      "Successfully installed async-timeout-4.0.3 redis-5.0.2 spotipy-2.23.0\n",
      "Note: you may need to restart the kernel to use updated packages.\n"
     ]
    }
   ],
   "source": [
    "pip install spotipy"
   ]
  },
  {
   "cell_type": "code",
   "execution_count": 29,
   "metadata": {},
   "outputs": [],
   "source": [
    "import numpy as np\n",
    "import networkx as nx\n",
    "import matplotlib.pyplot as plt\n",
    "from IPython.display import clear_output\n",
    "import spotipy\n",
    "from spotipy.oauth2 import SpotifyClientCredentials\n",
    "import warnings\n",
    "warnings.filterwarnings(\"ignore\")"
   ]
  },
  {
   "cell_type": "code",
   "execution_count": 30,
   "metadata": {},
   "outputs": [],
   "source": [
    "client_id='6c235f1045cf45c08208ee92dd45c146'\n",
    "client_secret='6c54872c4cde4e24aa8241af7b142163'"
   ]
  },
  {
   "cell_type": "code",
   "execution_count": 31,
   "metadata": {},
   "outputs": [],
   "source": [
    "credmanager = SpotifyClientCredentials(client_id=client_id, client_secret=client_secret)\n",
    "sp = spotipy.Spotify(client_credentials_manager=credmanager)"
   ]
  },
  {
   "cell_type": "code",
   "execution_count": 32,
   "metadata": {},
   "outputs": [
    {
     "data": {
      "text/plain": [
       "{'external_urls': {'spotify': 'https://open.spotify.com/artist/7dGJo4pcD2V6oG8kP0tJRR'},\n",
       " 'followers': {'href': None, 'total': 81324558},\n",
       " 'genres': ['detroit hip hop', 'hip hop', 'rap'],\n",
       " 'href': 'https://api.spotify.com/v1/artists/7dGJo4pcD2V6oG8kP0tJRR',\n",
       " 'id': '7dGJo4pcD2V6oG8kP0tJRR',\n",
       " 'images': [{'height': 640,\n",
       "   'url': 'https://i.scdn.co/image/ab6761610000e5eba00b11c129b27a88fc72f36b',\n",
       "   'width': 640},\n",
       "  {'height': 320,\n",
       "   'url': 'https://i.scdn.co/image/ab67616100005174a00b11c129b27a88fc72f36b',\n",
       "   'width': 320},\n",
       "  {'height': 160,\n",
       "   'url': 'https://i.scdn.co/image/ab6761610000f178a00b11c129b27a88fc72f36b',\n",
       "   'width': 160}],\n",
       " 'name': 'Eminem',\n",
       " 'popularity': 90,\n",
       " 'type': 'artist',\n",
       " 'uri': 'spotify:artist:7dGJo4pcD2V6oG8kP0tJRR'}"
      ]
     },
     "execution_count": 32,
     "metadata": {},
     "output_type": "execute_result"
    }
   ],
   "source": [
    "artist_search = sp.search('Eminem', type='artist')['artists']['items'][0]\n",
    "artist_search"
   ]
  },
  {
   "cell_type": "code",
   "execution_count": 33,
   "metadata": {},
   "outputs": [
    {
     "data": {
      "text/plain": [
       "{'artist_name': 'Eminem',\n",
       " 'artist_id': '7dGJo4pcD2V6oG8kP0tJRR',\n",
       " 'artist_popularity': 90,\n",
       " 'artist_first_genre': 'detroit hip hop',\n",
       " 'artist_n_followers': 81324558}"
      ]
     },
     "execution_count": 33,
     "metadata": {},
     "output_type": "execute_result"
    }
   ],
   "source": [
    "def art_features(spotify_search_result):\n",
    "    \"\"\"function to retrieve info about the artists\"\"\"\n",
    "    result = {\n",
    "        'artist_name': spotify_search_result.get('name', 'artist_name_not_available'),\n",
    "        'artist_id': spotify_search_result.get('id', 'artist_id_not_available'),\n",
    "        'artist_popularity': spotify_search_result.get('popularity', 0),\n",
    "        'artist_first_genre': (spotify_search_result.get('genres', ['genre_not_available']) + ['genre_not_available'])[0],\n",
    "        'artist_n_followers': spotify_search_result.get('followers', {}).get('total', 0)\n",
    "    }\n",
    "    return result\n",
    "\n",
    "artist_features = art_features(artist_search)\n",
    "artist_features"
   ]
  },
  {
   "cell_type": "code",
   "execution_count": 34,
   "metadata": {},
   "outputs": [
    {
     "name": "stdout",
     "output_type": "stream",
     "text": [
      "Artist has 20 related artists. The top 3 is given below. \n",
      "\n",
      "\n",
      "{'artist_name': 'Dr. Dre', 'artist_id': '6DPYiyq5kWVQS4RGwxzPC7', 'artist_popularity': 79, 'artist_first_genre': 'g funk', 'artist_n_followers': 11214305}\n",
      "\n",
      "\n",
      "{'artist_name': '50 Cent', 'artist_id': '3q7HBObVc0L8jNeTe5Gofh', 'artist_popularity': 83, 'artist_first_genre': 'east coast hip hop', 'artist_n_followers': 13644360}\n",
      "\n",
      "\n",
      "{'artist_name': 'Snoop Dogg', 'artist_id': '7hJcb9fa4alzcOq3EaNPoG', 'artist_popularity': 81, 'artist_first_genre': 'g funk', 'artist_n_followers': 11083256}\n"
     ]
    }
   ],
   "source": [
    "artist_related_artists = sp.artist_related_artists(artist_features['artist_id'])['artists']\n",
    "\n",
    "print('Artist has', len(artist_related_artists), 'related artists. The top 3 is given below. \\n\\n')\n",
    "\n",
    "print(art_features(artist_related_artists[0]))\n",
    "print('\\n')\n",
    "print(art_features(artist_related_artists[1]))\n",
    "print('\\n')\n",
    "print(art_features(artist_related_artists[2]))"
   ]
  },
  {
   "cell_type": "code",
   "execution_count": 35,
   "metadata": {},
   "outputs": [],
   "source": [
    "## Pipeline\n",
    "import networkx as nx\n",
    "\n",
    "def create_expanded_graph(artists_name_list, max_artists, expand_factor):\n",
    "    \"\"\"\n",
    "    Creates a graph from a list of artist names and expands it by adding related artists.\n",
    "    \n",
    "    Parameters:\n",
    "    - artists_name_list: List of artist names to search and add to the graph.\n",
    "    - max_artists: Maximum number of artists to add to the graph, including related artists.\n",
    "    \n",
    "    Returns:\n",
    "    - A NetworkX graph object with artists as nodes.\n",
    "    \"\"\"\n",
    "    G = nx.Graph()  # Create an empty graph\n",
    "    \n",
    "    # Initial addition of artists from the provided list\n",
    "    for name in artists_name_list:\n",
    "        if len(G) >= max_artists*expand_factor:\n",
    "            break  # Stop if we've reached the max artists limit\n",
    "        \n",
    "        search_result = sp.search(name, type='artist')['artists']['items']\n",
    "        if search_result:\n",
    "            this_artist = art_features(search_result[0])\n",
    "            G.add_node(this_artist['artist_name'], **this_artist, related_found=False)\n",
    "    \n",
    "    # Expansion of the graph with related artists\n",
    "    while True:\n",
    "        current_size = len(G)\n",
    "        for x in list(G):\n",
    "            if G.nodes[x]['related_found'] or len(G) >= max_artists*expand_factor:\n",
    "                continue  # Skip if related artists are found or max size is reached\n",
    "            \n",
    "            relateds = sp.artist_related_artists(G.nodes[x]['artist_id'])['artists']\n",
    "            for r in relateds:\n",
    "                rdict = art_features(r)\n",
    "                rname = rdict['artist_name']\n",
    "                \n",
    "                if rname not in G:\n",
    "                    G.add_node(rname, **rdict, related_found=False)\n",
    "                    if len(G) >= max_artists*expand_factor:\n",
    "                        break  # Stop if we've reached the max artists limit\n",
    "                \n",
    "                G.add_edge(x, rname)  # Add an edge between the artist and their related artist\n",
    "            \n",
    "            G.nodes[x]['related_found'] = True  # Mark the artist's related artists as found\n",
    "        \n",
    "        if current_size == len(G) or len(G) >= max_artists*expand_factor:\n",
    "            break  # Stop if no new artists were added or max size is reached\n",
    "    \n",
    "    #print(f'Graph created with {len(G)} artists.')\n",
    "    return G"
   ]
  },
  {
   "cell_type": "code",
   "execution_count": 36,
   "metadata": {},
   "outputs": [],
   "source": [
    "def print_all_artists(G):\n",
    "    \"\"\"\n",
    "    Prints all artists in the graph.\n",
    "\n",
    "    Parameters:\n",
    "    - G: NetworkX graph object with artists as nodes.\n",
    "    \"\"\"\n",
    "    for artist in G.nodes:\n",
    "        print(artist)"
   ]
  },
  {
   "cell_type": "code",
   "execution_count": 37,
   "metadata": {},
   "outputs": [],
   "source": [
    "import math\n",
    "\n",
    "def prune_artists_for_diversity(G, original_artists, max_artists, diversity_factor):\n",
    "    \"\"\"\n",
    "    Prunes the graph to a list of artist names based on a diversity factor.\n",
    "    \n",
    "    Parameters:\n",
    "    - G: The expanded graph of artists.\n",
    "    - original_artists: List of original artist names that should not be included in the final list.\n",
    "    - max_artists: Maximum number of artists to include in the final list.\n",
    "    - diversity_factor: A value between 0 and 1 indicating the balance between including artists with low and high connectivity.\n",
    "    \n",
    "    Returns:\n",
    "    - A list of artist names selected based on the specified diversity.\n",
    "    \"\"\"\n",
    "    # Exclude original artists and get the degree of the remaining nodes\n",
    "    remaining_nodes = [(node, G.degree(node)) for node in G.nodes if node not in original_artists]\n",
    "    \n",
    "    # Sort nodes based on their degree (connectivity)\n",
    "    nodes_sorted_by_degree = sorted(remaining_nodes, key=lambda x: x[1])\n",
    "    \n",
    "    # Determine the number of artists to pick from the least and most connected nodes\n",
    "    num_least_connected = math.floor(diversity_factor * max_artists)\n",
    "    num_most_connected = max_artists - num_least_connected\n",
    "    \n",
    "    # Select artists based on the diversity factor\n",
    "    selected_artists = [node[0] for node in nodes_sorted_by_degree[:num_least_connected]] + \\\n",
    "                       [node[0] for node in nodes_sorted_by_degree[-num_most_connected:]]\n",
    "    \n",
    "    return selected_artists"
   ]
  },
  {
   "cell_type": "code",
   "execution_count": 38,
   "metadata": {},
   "outputs": [],
   "source": [
    "def select_artists(artists_name_list, max_artists, expand_factor, diversity_factor):\n",
    "    G = create_expanded_graph(artists_name_list, max_artists, expand_factor)\n",
    "    recommended_artists = prune_artists_for_diversity(G, artists_name_list, max_artists=max_artists, diversity_factor=diversity_factor)\n",
    "    return recommended_artists"
   ]
  },
  {
   "cell_type": "code",
   "execution_count": 39,
   "metadata": {},
   "outputs": [
    {
     "name": "stdout",
     "output_type": "stream",
     "text": [
      "Recommended Artists: ['Anna Clendening', 'Louis Tomlinson', 'Niall Horan', 'Liam Payne', 'One Direction', 'ZAYN', 'Madison Beer', 'Alec Benjamin', 'Sabrina Carpenter', 'Gracie Abrams']\n"
     ]
    }
   ],
   "source": [
    "artists_name_list = [\n",
    "    'Tate McRae', 'Harry Styles', 'Conan Gray', 'The Weeknd', 'Post Malone'\n",
    "]\n",
    "max_artists = 10\n",
    "expand_factor = 15\n",
    "diversity_factor = 0.6\n",
    "recommended_artists = select_artists(artists_name_list, max_artists, expand_factor, diversity_factor)\n",
    "print(\"Recommended Artists:\", recommended_artists)"
   ]
  },
  {
   "cell_type": "code",
   "execution_count": null,
   "metadata": {},
   "outputs": [],
   "source": [
    "##"
   ]
  },
  {
   "cell_type": "code",
   "execution_count": 43,
   "metadata": {},
   "outputs": [],
   "source": [
    "def song_recommender_by_recommended_artists(recommended_artists, song_library, genre_vectors):\n",
    "    try:\n",
    "        # Directly use recommended_artists for filtering\n",
    "        artist_songs = song_library[song_library['artists'].apply(lambda x: any(artist in x for artist in recommended_artists))]\n",
    "        \n",
    "        if artist_songs.empty:\n",
    "            print('No songs found for the recommended artists in the song library.')\n",
    "            return\n",
    "\n",
    "        # The rest of the function remains the same\n",
    "        num_cols = ['year', 'duration_ms', 'popularity', 'danceability', 'energy', 'key', 'loudness',\n",
    "                    'mode', 'speechiness', 'acousticness', 'instrumentalness', 'liveness', 'valence', 'tempo']\n",
    "        avg_num_features = artist_songs[num_cols].mean().to_numpy().reshape(1, -1)\n",
    "\n",
    "        artist_song_indices = artist_songs.index.tolist()\n",
    "        avg_genre_vector = np.mean(genre_vectors[artist_song_indices], axis=0).reshape(1, -1)\n",
    "\n",
    "        genre_similarities = cosine_similarity(avg_genre_vector, genre_vectors)\n",
    "        num_similarities = cosine_similarity(avg_num_features, song_library[num_cols].to_numpy())\n",
    "\n",
    "        avg_similarities = (genre_similarities + num_similarities) / 2\n",
    "        sim_scores_indices = np.argsort(-avg_similarities[0])\n",
    "\n",
    "        recommended_songs = song_library.iloc[sim_scores_indices].loc[~song_library.index.isin(artist_song_indices)][['name', 'artists', 'year']].head(5)\n",
    "\n",
    "        return recommended_songs.reset_index(drop=True)\n",
    "    except Exception as e:\n",
    "        print(f'An error occurred: {e}')"
   ]
  },
  {
   "cell_type": "code",
   "execution_count": 54,
   "metadata": {},
   "outputs": [
    {
     "name": "stdout",
     "output_type": "stream",
     "text": [
      "Recommended Artists: ['boygenius', 'Alec Benjamin', 'Sasha Alex Sloan', 'Ruth B.', 'Dean Lewis', 'Poison', 'Lauren Spencer Smith', 'Nessa Barrett', 'Sabrina Carpenter', 'Madison Beer']\n"
     ]
    }
   ],
   "source": [
    "artists_name_list = ['Tate McRae', 'Def Leppard', 'Opeth', 'The Weeknd', 'Post Malone']\n",
    "max_artists = 10\n",
    "expand_factor = 15\n",
    "diversity_factor = 0.6\n",
    "recommended_artists = select_artists(artists_name_list, max_artists, expand_factor, diversity_factor)\n",
    "print(\"Recommended Artists:\", recommended_artists)"
   ]
  },
  {
   "cell_type": "code",
   "execution_count": 55,
   "metadata": {},
   "outputs": [
    {
     "name": "stdout",
     "output_type": "stream",
     "text": [
      "                                  name        artists  year\n",
      "0              The Code (feat. Polo G)       King Von  2020\n",
      "1  No Se Me Quita (feat. Ricky Martin)         Maluma  2019\n",
      "2             Solo Quédate En Silencio  Maite Perroni  2004\n",
      "3                            Headlines          Drake  2011\n",
      "4                      BROWN SKIN GIRL      SAINt JHN  2019\n"
     ]
    }
   ],
   "source": [
    "# Use the recommended artists list to get song recommendations\n",
    "recommended_songs = song_recommender_by_recommended_artists(recommended_artists, song_library, genre_vectors)\n",
    "print(recommended_songs)"
   ]
  },
  {
   "cell_type": "code",
   "execution_count": null,
   "metadata": {},
   "outputs": [],
   "source": []
  },
  {
   "cell_type": "markdown",
   "metadata": {},
   "source": [
    "## EXTRA CODE (Song Recommender by Artist & Song - Song Recommender)"
   ]
  },
  {
   "cell_type": "code",
   "execution_count": null,
   "metadata": {},
   "outputs": [],
   "source": []
  },
  {
   "cell_type": "markdown",
   "metadata": {},
   "source": [
    "### Song Recommender by Artist"
   ]
  },
  {
   "cell_type": "code",
   "execution_count": 22,
   "metadata": {},
   "outputs": [],
   "source": [
    "def song_recommender_by_artists(artist_list, song_library, genre_vectors):\n",
    "    try:\n",
    "        # Filter songs by the given list of artists\n",
    "        artist_songs = song_library[song_library['artists'].apply(lambda x: any(artist in x for artist in artist_list))]\n",
    "        \n",
    "        if artist_songs.empty:\n",
    "            print('No songs found for the given artists in the song library.')\n",
    "            return\n",
    "\n",
    "        # Average numerical features for the selected songs\n",
    "        num_cols = ['year', 'duration_ms', 'popularity', 'danceability', 'energy', 'key', 'loudness',\n",
    "                    'mode', 'speechiness', 'acousticness', 'instrumentalness', 'liveness', 'valence', 'tempo']\n",
    "        avg_num_features = artist_songs[num_cols].mean().to_numpy().reshape(1, -1)\n",
    "\n",
    "        # Average genre vectors for the selected songs\n",
    "        artist_song_indices = artist_songs.index.tolist()\n",
    "        avg_genre_vector = np.mean(genre_vectors[artist_song_indices], axis=0).reshape(1, -1)\n",
    "\n",
    "        # Calculate cosine similarity for genres and numerical features across the entire song library\n",
    "        genre_similarities = cosine_similarity(avg_genre_vector, genre_vectors)\n",
    "        num_similarities = cosine_similarity(avg_num_features, song_library[num_cols].to_numpy())\n",
    "\n",
    "        # Average of genre and numerical similarities\n",
    "        avg_similarities = (genre_similarities + num_similarities) / 2\n",
    "\n",
    "        # Sort songs by similarity\n",
    "        sim_scores_indices = np.argsort(-avg_similarities[0])\n",
    "\n",
    "        # Create DataFrame for recommended songs, excluding the songs by the input artists\n",
    "        recommended_songs = song_library.iloc[sim_scores_indices].loc[~song_library.index.isin(artist_song_indices)][['name', 'artists', 'year']].head(5)\n",
    "\n",
    "        return recommended_songs.reset_index(drop=True)\n",
    "    except Exception as e:\n",
    "        print(f'An error occurred: {e}')"
   ]
  },
  {
   "cell_type": "code",
   "execution_count": null,
   "metadata": {},
   "outputs": [],
   "source": [
    "recommended_artists"
   ]
  },
  {
   "cell_type": "code",
   "execution_count": 40,
   "metadata": {},
   "outputs": [
    {
     "name": "stdout",
     "output_type": "stream",
     "text": [
      "No songs found for the given artists in the song library.\n",
      "None\n"
     ]
    }
   ],
   "source": [
    "artist_list = [\"Def Leppard\", \"Opeth\"] \n",
    "recommended_songs = song_recommender_by_artists(artist_list, song_library, genre_vectors)\n",
    "print(recommended_songs)"
   ]
  },
  {
   "cell_type": "code",
   "execution_count": null,
   "metadata": {},
   "outputs": [],
   "source": []
  },
  {
   "cell_type": "markdown",
   "metadata": {},
   "source": [
    "### SONG RECOMMENDER"
   ]
  },
  {
   "cell_type": "code",
   "execution_count": 17,
   "metadata": {},
   "outputs": [],
   "source": [
    "import numpy as np"
   ]
  },
  {
   "cell_type": "code",
   "execution_count": null,
   "metadata": {},
   "outputs": [],
   "source": [
    "song_library = merged_df.sort_values(by=['popularity'], ascending=False).head(10000)\n",
    "song_library.reset_index(inplace=True, drop=True)\n",
    "song_library.head()"
   ]
  },
  {
   "cell_type": "code",
   "execution_count": null,
   "metadata": {},
   "outputs": [],
   "source": [
    "# Create CountVectorizer object to transform text into vector\n",
    "song_vectorizer = CountVectorizer()\n",
    "\n",
    "# Fit the vectorizer on \"genres\" field of song_library DataFrame\n",
    "song_vectorizer.fit(song_library['genres'])"
   ]
  },
  {
   "cell_type": "code",
   "execution_count": 18,
   "metadata": {},
   "outputs": [],
   "source": [
    "def song_recommender(song_name):\n",
    "    try:\n",
    "        # Numeric columns (audio features) in song_library DataFrame\n",
    "        num_cols = ['year', 'duration_ms', 'popularity', 'danceability', 'energy', 'key', 'loudness',\n",
    "                    'mode', 'speechiness', 'acousticness', 'instrumentalness', 'liveness', 'valence', 'tempo']\n",
    "\n",
    "        # Create vector from \"genres\" field (text data) for given song\n",
    "        text_vec1 = song_vectorizer.transform(song_library[song_library['name']==str(song_name)]['genres']).toarray()\n",
    "\n",
    "        # Create vector from numerical columns for given song\n",
    "        num_vec1 = song_library[song_library['name']==str(song_name)][num_cols].to_numpy()\n",
    "\n",
    "        # Initialise empty list to store similarity scores\n",
    "        sim_scores=  []\n",
    "\n",
    "        # For every song/track in song library, determine cosine similarity with given song\n",
    "        for index, row in song_library.iterrows():\n",
    "            name = row['name']\n",
    "\n",
    "            # Create vector from \"genres\" field for other songs\n",
    "            text_vec2 = song_vectorizer.transform(song_library[song_library['name']==name]['genres']).toarray()\n",
    "\n",
    "            # Create vector from numerical columns for other songs\n",
    "            num_vec2 = song_library[song_library['name']==name][num_cols].to_numpy()\n",
    "\n",
    "            # Calculate cosine similarity using text vectors\n",
    "            text_sim = cosine_similarity(text_vec1, text_vec2)[0][0]\n",
    "\n",
    "            # Calculate cosine similarity using numerical vectors\n",
    "            num_sim = cosine_similarity(num_vec1, num_vec2)[0][0]\n",
    "\n",
    "            # Take average of both similarity scores and add to list of similarity scores\n",
    "            sim = (text_sim + num_sim)/2\n",
    "            sim_scores.append(sim)\n",
    "        \n",
    "        # Add new column containing similarity scores to song_library DataFrame\n",
    "        song_library['similarity'] = sim_scores\n",
    "\n",
    "        # Sort DataFrame based on \"similarity\" column\n",
    "        song_library.sort_values(by=['similarity', 'popularity', 'year'], ascending=[False, False, False], inplace=True)\n",
    "\n",
    "        # Create DataFrame \"recommended_songs\" containing 5 songs that are most similar to the given song and return this DataFrame\n",
    "        recommended_songs = song_library[['name', 'artists', 'year']][2:7]\n",
    "        return recommended_songs\n",
    "    except:\n",
    "        # If given song is not found in song library then display message\n",
    "        print('{} not found in songs library.'.format(song_name))"
   ]
  },
  {
   "cell_type": "code",
   "execution_count": 26,
   "metadata": {},
   "outputs": [
    {
     "data": {
      "text/html": [
       "<div>\n",
       "<style scoped>\n",
       "    .dataframe tbody tr th:only-of-type {\n",
       "        vertical-align: middle;\n",
       "    }\n",
       "\n",
       "    .dataframe tbody tr th {\n",
       "        vertical-align: top;\n",
       "    }\n",
       "\n",
       "    .dataframe thead th {\n",
       "        text-align: right;\n",
       "    }\n",
       "</style>\n",
       "<table border=\"1\" class=\"dataframe\">\n",
       "  <thead>\n",
       "    <tr style=\"text-align: right;\">\n",
       "      <th></th>\n",
       "      <th>name</th>\n",
       "      <th>artists</th>\n",
       "      <th>year</th>\n",
       "    </tr>\n",
       "  </thead>\n",
       "  <tbody>\n",
       "    <tr>\n",
       "      <th>408</th>\n",
       "      <td>La Santa</td>\n",
       "      <td>Bad Bunny</td>\n",
       "      <td>2020</td>\n",
       "    </tr>\n",
       "    <tr>\n",
       "      <th>409</th>\n",
       "      <td>La Santa</td>\n",
       "      <td>Daddy Yankee</td>\n",
       "      <td>2020</td>\n",
       "    </tr>\n",
       "    <tr>\n",
       "      <th>3630</th>\n",
       "      <td>Mayores</td>\n",
       "      <td>Bad Bunny</td>\n",
       "      <td>2019</td>\n",
       "    </tr>\n",
       "    <tr>\n",
       "      <th>3631</th>\n",
       "      <td>Mayores</td>\n",
       "      <td>Becky G</td>\n",
       "      <td>2019</td>\n",
       "    </tr>\n",
       "    <tr>\n",
       "      <th>3759</th>\n",
       "      <td>Estamos Bien</td>\n",
       "      <td>Bad Bunny</td>\n",
       "      <td>2018</td>\n",
       "    </tr>\n",
       "  </tbody>\n",
       "</table>\n",
       "</div>"
      ],
      "text/plain": [
       "              name       artists  year\n",
       "408       La Santa     Bad Bunny  2020\n",
       "409       La Santa  Daddy Yankee  2020\n",
       "3630       Mayores     Bad Bunny  2019\n",
       "3631       Mayores       Becky G  2019\n",
       "3759  Estamos Bien     Bad Bunny  2018"
      ]
     },
     "execution_count": 26,
     "metadata": {},
     "output_type": "execute_result"
    }
   ],
   "source": [
    "song_recommender('Dakiti')"
   ]
  },
  {
   "cell_type": "code",
   "execution_count": null,
   "metadata": {},
   "outputs": [],
   "source": []
  },
  {
   "cell_type": "code",
   "execution_count": null,
   "metadata": {},
   "outputs": [],
   "source": []
  }
 ],
 "metadata": {
  "kernelspec": {
   "display_name": "Python 3 (ipykernel)",
   "language": "python",
   "name": "python3"
  },
  "language_info": {
   "codemirror_mode": {
    "name": "ipython",
    "version": 3
   },
   "file_extension": ".py",
   "mimetype": "text/x-python",
   "name": "python",
   "nbconvert_exporter": "python",
   "pygments_lexer": "ipython3",
   "version": "3.11.5"
  }
 },
 "nbformat": 4,
 "nbformat_minor": 2
}
